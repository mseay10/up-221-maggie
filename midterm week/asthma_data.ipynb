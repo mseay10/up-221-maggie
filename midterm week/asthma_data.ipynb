{
 "cells": [
  {
   "cell_type": "code",
   "execution_count": 3,
   "id": "69b147c2-14c0-4f05-b3a7-49fef7cda0b4",
   "metadata": {},
   "outputs": [],
   "source": [
    "import pandas as pd\n",
    "import geopandas as gpd\n",
    "import matplotlib.pyplot as plt\n",
    "import contextily as ctximport logging as lg\n",
    "import warnings\n",
    "\n",
    "import geopandas as gpd\n",
    "import numpy as np\n",
    "import pandas as pd"
   ]
  },
  {
   "cell_type": "code",
   "execution_count": 6,
   "id": "bdd2a59d-c1f3-49ed-a24d-6b55007534a9",
   "metadata": {},
   "outputs": [
    {
     "ename": "SyntaxError",
     "evalue": "invalid syntax (2611063683.py, line 2)",
     "output_type": "error",
     "traceback": [
      "\u001b[0;36m  Cell \u001b[0;32mIn[6], line 2\u001b[0;36m\u001b[0m\n\u001b[0;31m    north: 33.264818,\u001b[0m\n\u001b[0m                    ^\u001b[0m\n\u001b[0;31mSyntaxError\u001b[0m\u001b[0;31m:\u001b[0m invalid syntax\n"
     ]
    }
   ],
   "source": [
    "zipfile = \"calenviroscreen40shpf2021shp.zip\"\n",
    "df = gpd.read_file(zipfile)\n"
   ]
  },
  {
   "cell_type": "code",
   "execution_count": null,
   "id": "72c0264d-4f12-4545-8f9f-0a70dda863d9",
   "metadata": {},
   "outputs": [],
   "source": [
    "df['Tract'] = df['Tract'].astype('int')"
   ]
  },
  {
   "cell_type": "code",
   "execution_count": null,
   "id": "e86601af-3551-430b-b25b-0b44cbdc800f",
   "metadata": {},
   "outputs": [],
   "source": [
    "df['Tract'] = df['Tract'].astype('str')"
   ]
  },
  {
   "cell_type": "code",
   "execution_count": null,
   "id": "75848ea4-231f-4ac3-82dc-d078be390473",
   "metadata": {},
   "outputs": [],
   "source": [
    "df[\"Tract\"] = df[\"Tract\"].str.zfill(11)\n",
    "df.head()"
   ]
  },
  {
   "cell_type": "code",
   "execution_count": null,
   "id": "c407b791-e1ce-40a6-9b7e-2cf67f44ce23",
   "metadata": {},
   "outputs": [],
   "source": [
    "tractlist5 = [ '06025012301','06025010200',\n",
    "               '06025010300','06025010400',\n",
    "               '06025010500','06025010600',\n",
    "               '06025010700','06025011000',\n",
    "               '06025011300','06025011400',\n",
    "               '06025011802','06025011202',\n",
    "               '06025011201','06025010900',\n",
    "               '06025010800','06025010300',\n",
    "               '06025012400','06025010101',\n",
    "               '06065045604','06065046900',\n",
    "               '06065045609','06065045606',\n",
    "               '06065940400','06065045216',\n",
    "               '06065045304','06065045707',\n",
    "               '06065045609','06065045605',\n",
    "               '06065045608','06065045224',\n",
    "               '06065045606','06065045608',\n",
    "               '06065045605','06065044403',\n",
    "               '06073021000','06025012301',\n",
    "               '06065045605','06025011900',\n",
    "               '06025011100','06025012302',\n",
    "               '06025010102','06025011803',\n",
    "               '06025011600','06025011801',\n",
    "               '06025012200','06025012100',\n",
    "               '06025012002','06025011700',\n",
    "               '06025011500','06065045706',\n",
    "               '06065045703','6065045705',\n",
    "               '06065045704'\n",
    "             ]"
   ]
  },
  {
   "cell_type": "code",
   "execution_count": null,
   "id": "9517eebe-c6af-47f5-8b44-e446fd77f22c",
   "metadata": {},
   "outputs": [],
   "source": [
    "df[df['Tract'].isin(tractlist5)]"
   ]
  },
  {
   "cell_type": "code",
   "execution_count": null,
   "id": "60ed6594-e4ed-4fda-a151-d03c68103eff",
   "metadata": {},
   "outputs": [],
   "source": [
    "saltonsea = df[df['Tract'].isin(tractlist5)]"
   ]
  },
  {
   "cell_type": "code",
   "execution_count": null,
   "id": "32a029f2-c5ee-41f7-9abb-1fc0a7a16468",
   "metadata": {},
   "outputs": [],
   "source": [
    "saltonsea.plot(column='PM2_5',\n",
    "                 scheme='NaturalBreaks',\n",
    "                 legend='True'\n",
    "                )"
   ]
  },
  {
   "cell_type": "code",
   "execution_count": null,
   "id": "63959f03-78b5-4518-b5e8-3a970be2386a",
   "metadata": {},
   "outputs": [],
   "source": [
    "saltonsea = saltonsea.to_crs(epsg=4236)\n",
    "\n",
    "fig, ax = plt.subplots(figsize=(10,10))\n",
    "\n",
    "saltonsea.plot(ax=ax,\n",
    "               column='AsthmaP',\n",
    "               scheme='NaturalBreaks',\n",
    "               legend='True'\n",
    "                )\n",
    "ax.axis('off')\n"
   ]
  },
  {
   "cell_type": "code",
   "execution_count": null,
   "id": "ef5b0b37-085e-4d06-b140-3212f8f540de",
   "metadata": {},
   "outputs": [],
   "source": [
    "saltonsea.crs"
   ]
  },
  {
   "cell_type": "code",
   "execution_count": null,
   "id": "85d25e4a-3ed8-4ddf-911b-185f34fc0929",
   "metadata": {},
   "outputs": [],
   "source": [
    "from mpl_toolkits.axes_grid1 import make_axes_locatable\n",
    "\n",
    "saltonsea = saltonsea.to_crs(epsg=4236)\n",
    "\n",
    "fig,ax = plt.subplots(figsize=(12,12))\n",
    "\n",
    "saltonsea.plot(ax=ax,\n",
    "               column='AsthmaP',\n",
    "               legend=True,\n",
    "               cmap='Blues',\n",
    "               alpha=0.8,\n",
    "              legend_kwds={\"orientation\": \"horizontal\"}\n",
    "              )\n",
    "\n",
    "ctx.add_basemap(ax=ax,\n",
    "                crs=saltonsea.crs.to_string(),\n",
    "                source=ctx.providers.Esri.WorldImagery\n",
    "                )\n",
    "\n",
    "ax.axis('off')"
   ]
  },
  {
   "cell_type": "code",
   "execution_count": null,
   "id": "6abeb12d-464d-4410-a997-d545ee8a4b28",
   "metadata": {},
   "outputs": [],
   "source": [
    "from mpl_toolkits.axes_grid1 import make_axes_locatable\n",
    "\n",
    "saltonsea = saltonsea.to_crs(epsg=4236)\n",
    "\n",
    "fig,ax = plt.subplots(figsize=(12,12))\n",
    "\n",
    "saltonsea.plot(ax=ax,\n",
    "               column='Asthma',\n",
    "               legend=True,\n",
    "               cmap='Greens',\n",
    "               alpha=0.8,\n",
    "              legend_kwds={\"orientation\": \"horizontal\"}\n",
    "              )\n",
    "\n",
    "ctx.add_basemap(ax=ax,\n",
    "                crs=saltonsea.crs.to_string(),\n",
    "                source=ctx.providers.Esri.WorldImagery\n",
    "                )\n",
    "\n",
    "ax.axis('off')"
   ]
  }
 ],
 "metadata": {
  "kernelspec": {
   "display_name": "Python 3 (ipykernel)",
   "language": "python",
   "name": "python3"
  },
  "language_info": {
   "codemirror_mode": {
    "name": "ipython",
    "version": 3
   },
   "file_extension": ".py",
   "mimetype": "text/x-python",
   "name": "python",
   "nbconvert_exporter": "python",
   "pygments_lexer": "ipython3",
   "version": "3.10.8"
  }
 },
 "nbformat": 4,
 "nbformat_minor": 5
}
